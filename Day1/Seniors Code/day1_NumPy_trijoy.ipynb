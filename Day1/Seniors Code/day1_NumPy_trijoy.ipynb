{
 "cells": [
  {
   "cell_type": "code",
   "execution_count": 1,
   "id": "63cc2b4e-2c1e-4ee0-8311-31187d73d0bc",
   "metadata": {},
   "outputs": [],
   "source": [
    "# importing numpy library\n",
    "import numpy as np"
   ]
  },
  {
   "cell_type": "code",
   "execution_count": 2,
   "id": "7b24e833-dd50-46fb-b2fe-9fb1e09cc838",
   "metadata": {},
   "outputs": [
    {
     "name": "stdout",
     "output_type": "stream",
     "text": [
      "[1 2 3 4]\n",
      "[[1 2]\n",
      " [3 4]]\n"
     ]
    }
   ],
   "source": [
    "# Creating a NumPy array and Matrix\n",
    "\n",
    "narray = np.array([1,2,3,4])\n",
    "matrix = np.array([[1,2],[3,4]])\n",
    "print(narray)\n",
    "print(matrix)"
   ]
  },
  {
   "cell_type": "code",
   "execution_count": 4,
   "id": "d8a7c9af-813a-49b0-917d-0e03e9ea4354",
   "metadata": {},
   "outputs": [
    {
     "name": "stdout",
     "output_type": "stream",
     "text": [
      "[0. 0. 0. 0. 0.]\n",
      "[1. 1. 1. 1. 1.]\n",
      "[[[[0. 0. 0.]\n",
      "   [0. 0. 0.]\n",
      "   [0. 0. 0.]]\n",
      "\n",
      "  [[0. 0. 0.]\n",
      "   [0. 0. 0.]\n",
      "   [0. 0. 0.]]\n",
      "\n",
      "  [[0. 0. 0.]\n",
      "   [0. 0. 0.]\n",
      "   [0. 0. 0.]]]\n",
      "\n",
      "\n",
      " [[[0. 0. 0.]\n",
      "   [0. 0. 0.]\n",
      "   [0. 0. 0.]]\n",
      "\n",
      "  [[0. 0. 0.]\n",
      "   [0. 0. 0.]\n",
      "   [0. 0. 0.]]\n",
      "\n",
      "  [[0. 0. 0.]\n",
      "   [0. 0. 0.]\n",
      "   [0. 0. 0.]]]\n",
      "\n",
      "\n",
      " [[[0. 0. 0.]\n",
      "   [0. 0. 0.]\n",
      "   [0. 0. 0.]]\n",
      "\n",
      "  [[0. 0. 0.]\n",
      "   [0. 0. 0.]\n",
      "   [0. 0. 0.]]\n",
      "\n",
      "  [[0. 0. 0.]\n",
      "   [0. 0. 0.]\n",
      "   [0. 0. 0.]]]]\n",
      "[[1. 1.]\n",
      " [1. 1.]\n",
      " [1. 1.]]\n"
     ]
    }
   ],
   "source": [
    "# Zero and One Array - np.zeros(shape, dtype) OR np.zeros(shape)\n",
    "zarray = np.zeros(5)\n",
    "oarray = np.ones(5)\n",
    "print(zarray)\n",
    "print(oarray)\n",
    "\n",
    "# Zero and One Matrix \n",
    "zmatrix = np.zeros((3,3,3,3))\n",
    "omatrix = np.ones((3,2))\n",
    "print(zmatrix)\n",
    "print(omatrix)"
   ]
  },
  {
   "cell_type": "code",
   "execution_count": 6,
   "id": "10498722-f66d-4049-9094-69736acbae25",
   "metadata": {},
   "outputs": [
    {
     "data": {
      "text/plain": [
       "array([[1., 0., 0., 0., 0.],\n",
       "       [0., 1., 0., 0., 0.],\n",
       "       [0., 0., 1., 0., 0.],\n",
       "       [0., 0., 0., 1., 0.],\n",
       "       [0., 0., 0., 0., 1.]])"
      ]
     },
     "execution_count": 6,
     "metadata": {},
     "output_type": "execute_result"
    }
   ],
   "source": [
    "np.identity(5)"
   ]
  },
  {
   "cell_type": "code",
   "execution_count": 11,
   "id": "3755985d-2105-47ad-bf97-829605a55289",
   "metadata": {},
   "outputs": [
    {
     "data": {
      "text/plain": [
       "array([[0., 0., 1., 0.],\n",
       "       [0., 0., 0., 1.],\n",
       "       [0., 0., 0., 0.]])"
      ]
     },
     "execution_count": 11,
     "metadata": {},
     "output_type": "execute_result"
    }
   ],
   "source": [
    "np.eye(3,4,2)"
   ]
  },
  {
   "cell_type": "markdown",
   "id": "6735ad88-407f-42ea-bed2-61cd90c5bcaf",
   "metadata": {},
   "source": [
    "np.identity(5)"
   ]
  },
  {
   "cell_type": "code",
   "execution_count": 13,
   "id": "94903515-ffa5-41ff-b73b-17241b652632",
   "metadata": {},
   "outputs": [
    {
     "name": "stdout",
     "output_type": "stream",
     "text": [
      "[1 1 3 9 6]\n",
      "[[[0.90667807 0.17401235]\n",
      "  [0.60219429 0.23384327]]\n",
      "\n",
      " [[0.62359803 0.91244891]\n",
      "  [0.031957   0.31655992]]]\n"
     ]
    }
   ],
   "source": [
    "# Creating an array of 5 random integers between 1 and 10\n",
    "\n",
    "arr = np.random.randint(1, 11, 5)\n",
    "print(arr)\n",
    "\n",
    "# Creating a N x N array of random floats between 0 and 1 (1 exclusive)\n",
    "arr2 = np.random.rand(2, 2, 2)\n",
    "print(arr2)"
   ]
  },
  {
   "cell_type": "code",
   "execution_count": 15,
   "id": "d60d9bcb-dbd0-4991-8071-c5fd53320d81",
   "metadata": {},
   "outputs": [
    {
     "name": "stdout",
     "output_type": "stream",
     "text": [
      "[  0   1   2   3   4   5   6   7   8   9  10  11  12  13  14  15  16  17\n",
      "  18  19  20  21  22  23  24  25  26  27  28  29  30  31  32  33  34  35\n",
      "  36  37  38  39  40  41  42  43  44  45  46  47  48  49  50  51  52  53\n",
      "  54  55  56  57  58  59  60  61  62  63  64  65  66  67  68  69  70  71\n",
      "  72  73  74  75  76  77  78  79  80  81  82  83  84  85  86  87  88  89\n",
      "  90  91  92  93  94  95  96  97  98  99 100 101 102 103 104 105 106 107\n",
      " 108 109 110 111 112 113 114 115 116 117 118 119 120 121 122 123 124 125\n",
      " 126 127 128 129 130 131 132 133 134 135 136 137 138 139 140 141 142 143\n",
      " 144 145 146 147 148 149 150 151 152 153 154 155 156 157 158 159 160 161\n",
      " 162 163 164 165 166 167 168 169 170 171 172 173 174 175 176 177 178 179\n",
      " 180 181 182 183 184 185 186 187 188 189 190 191 192 193 194 195 196 197\n",
      " 198 199 200]\n"
     ]
    }
   ],
   "source": [
    "# ARANGE = np.arange(start, end, step_size)\n",
    "\n",
    "a_array = np.arange(0,201,1)\n",
    "print(a_array)"
   ]
  },
  {
   "cell_type": "code",
   "execution_count": 95,
   "id": "db16624c-7835-4c0e-9931-cc0e8151ad2a",
   "metadata": {},
   "outputs": [
    {
     "name": "stdout",
     "output_type": "stream",
     "text": [
      "[0.   0.75 1.5  2.25 3.  ]\n"
     ]
    }
   ],
   "source": [
    "# LINSPACE = np.linspace(start, end, no_of_elements)\n",
    "# spacing bw elements = (end - start) / (no_of_elements - 1)\n",
    "\n",
    "l_array = np.linspace(0,3,5)\n",
    "print(l_array)"
   ]
  },
  {
   "cell_type": "code",
   "execution_count": 99,
   "id": "23cf1162-cef2-4f5b-b5ef-c7ccdf82d805",
   "metadata": {},
   "outputs": [
    {
     "name": "stdout",
     "output_type": "stream",
     "text": [
      "[0.9408445  0.63310452 0.54151064 0.60303489 0.30466033 0.68857295\n",
      " 0.99940099 0.36116024 0.68151086 0.44908478 0.77541341 0.63088356\n",
      " 0.17017147 0.59891659 0.79199354 0.5605505  0.37453766 0.5581082\n",
      " 0.50008057 0.65381531]\n",
      "[36  2 37 40 22 28 34 13 18  6 26 40 30 19 24]\n"
     ]
    }
   ],
   "source": [
    "# np.RANDOM.RAND(N) - Array of N random floats between 0 and 1\n",
    "r1_array = np.random.rand(20)\n",
    "print(r1_array)\n",
    "\n",
    "# np.RANDOM.RANDINT(a,b,N) - N random integers between a and b\n",
    "r2_array = np.random.randint(1,50,15)   \n",
    "print(r2_array)"
   ]
  },
  {
   "cell_type": "code",
   "execution_count": 16,
   "id": "23074992-c13f-47c7-9a8a-42f57eb0de98",
   "metadata": {},
   "outputs": [],
   "source": [
    "a = np.array([1,2,3,4])"
   ]
  },
  {
   "cell_type": "code",
   "execution_count": 17,
   "id": "fd53c14b-a45d-4af3-b020-0d2c0ee00824",
   "metadata": {},
   "outputs": [
    {
     "name": "stdout",
     "output_type": "stream",
     "text": [
      "Minimum: 1\n",
      "Maximum: 4\n",
      "Sum: 10\n",
      "Mean: 2.5\n",
      "Median: 2.5\n"
     ]
    }
   ],
   "source": [
    "# Basic statistical operations\n",
    "print(\"Minimum:\", np.min(a))\n",
    "print(\"Maximum:\", np.max(a))\n",
    "print(\"Sum:\",     np.sum(a))\n",
    "print(\"Mean:\",    np.mean(a))\n",
    "print(\"Median:\",  np.median(a))\n"
   ]
  },
  {
   "cell_type": "code",
   "execution_count": null,
   "id": "bfb67a03-b0f0-480d-a989-99874a8865b3",
   "metadata": {},
   "outputs": [],
   "source": []
  },
  {
   "cell_type": "code",
   "execution_count": 135,
   "id": "a67fd9ec-5b46-4f46-8818-9a65a37da3d4",
   "metadata": {},
   "outputs": [
    {
     "name": "stdout",
     "output_type": "stream",
     "text": [
      "[[1. 1. 1. 1. 1. 1. 1. 1. 1.]\n",
      " [1. 1. 1. 1. 1. 1. 1. 1. 1.]\n",
      " [1. 1. 1. 1. 1. 1. 1. 1. 1.]\n",
      " [1. 1. 1. 1. 1. 1. 1. 1. 1.]\n",
      " [1. 1. 1. 1. 1. 1. 1. 1. 1.]\n",
      " [1. 1. 1. 1. 1. 1. 1. 1. 1.]\n",
      " [1. 1. 1. 1. 1. 1. 1. 1. 1.]\n",
      " [1. 1. 1. 1. 1. 1. 1. 1. 1.]\n",
      " [1. 1. 1. 1. 1. 1. 1. 1. 1.]]\n",
      "[[0. 0. 0. 0. 0. 0. 0.]\n",
      " [0. 0. 0. 0. 0. 0. 0.]\n",
      " [0. 0. 0. 0. 0. 0. 0.]\n",
      " [0. 0. 0. 0. 0. 0. 0.]\n",
      " [0. 0. 0. 0. 0. 0. 0.]\n",
      " [0. 0. 0. 0. 0. 0. 0.]\n",
      " [0. 0. 0. 0. 0. 0. 0.]]\n",
      "[[3. 0. 0. 0. 0.]\n",
      " [0. 3. 0. 0. 0.]\n",
      " [0. 0. 3. 0. 0.]\n",
      " [0. 0. 0. 3. 0.]\n",
      " [0. 0. 0. 0. 3.]]\n",
      "[[1. 1. 1. 1. 1. 1. 1. 1. 1.]\n",
      " [1. 0. 0. 0. 0. 0. 0. 0. 1.]\n",
      " [1. 0. 0. 0. 0. 0. 0. 0. 1.]\n",
      " [1. 0. 0. 0. 0. 0. 0. 0. 1.]\n",
      " [1. 0. 0. 0. 0. 0. 0. 0. 1.]\n",
      " [1. 0. 0. 0. 0. 0. 0. 0. 1.]\n",
      " [1. 0. 0. 0. 0. 0. 0. 0. 1.]\n",
      " [1. 0. 0. 0. 0. 0. 0. 0. 1.]\n",
      " [1. 1. 1. 1. 1. 1. 1. 1. 1.]]\n",
      "[[1. 1. 1. 1. 1. 1. 1. 1. 1.]\n",
      " [1. 0. 0. 0. 0. 0. 0. 0. 1.]\n",
      " [1. 0. 3. 0. 0. 0. 0. 0. 1.]\n",
      " [1. 0. 0. 3. 0. 0. 0. 0. 1.]\n",
      " [1. 0. 0. 0. 3. 0. 0. 0. 1.]\n",
      " [1. 0. 0. 0. 0. 3. 0. 0. 1.]\n",
      " [1. 0. 0. 0. 0. 0. 3. 0. 1.]\n",
      " [1. 0. 0. 0. 0. 0. 0. 0. 1.]\n",
      " [1. 1. 1. 1. 1. 1. 1. 1. 1.]]\n"
     ]
    }
   ],
   "source": [
    "# Custom 9x9 Matrix:\n",
    "# 1 1 1 1 1 1 1 1 1\n",
    "# 1 0 0 0 0 0 0 0 1\n",
    "# 1 0 3 0 0 0 0 0 1\n",
    "# 1 0 0 3 0 0 0 0 1\n",
    "# 1 0 0 0 3 0 0 0 1\n",
    "# 1 0 0 0 0 3 0 0 1\n",
    "# 1 0 0 0 0 0 3 0 1\n",
    "# 1 0 0 0 0 0 0 0 1\n",
    "# 1 1 1 1 1 1 1 1 1\n",
    "\n",
    "a = np.ones((9,9))\n",
    "b = np.zeros((7,7))\n",
    "c = np.identity(5) * 3\n",
    "print(a)\n",
    "print(b)\n",
    "print(c)\n",
    "a[1:8, 1:8] = b\n",
    "print(a)\n",
    "a[2:7,2:7] = c\n",
    "print(a)"
   ]
  },
  {
   "cell_type": "code",
   "execution_count": null,
   "id": "75f05046-810c-4fde-ad9a-b9526535b4b1",
   "metadata": {},
   "outputs": [],
   "source": []
  }
 ],
 "metadata": {
  "kernelspec": {
   "display_name": "Python [conda env:base] *",
   "language": "python",
   "name": "conda-base-py"
  },
  "language_info": {
   "codemirror_mode": {
    "name": "ipython",
    "version": 3
   },
   "file_extension": ".py",
   "mimetype": "text/x-python",
   "name": "python",
   "nbconvert_exporter": "python",
   "pygments_lexer": "ipython3",
   "version": "3.13.5"
  }
 },
 "nbformat": 4,
 "nbformat_minor": 5
}
