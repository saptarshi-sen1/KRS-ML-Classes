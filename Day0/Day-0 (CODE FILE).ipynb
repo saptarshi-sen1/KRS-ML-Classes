{
 "cells": [
  {
   "cell_type": "code",
   "execution_count": 3,
   "id": "2d3d9699-34dd-4c6f-ac18-1ebd96165e6d",
   "metadata": {},
   "outputs": [
    {
     "name": "stdout",
     "output_type": "stream",
     "text": [
      "hello world\n"
     ]
    }
   ],
   "source": [
    "print('hello world')"
   ]
  },
  {
   "cell_type": "code",
   "execution_count": 5,
   "id": "c91ab372-12ba-4ebf-880e-1c428a0ec8dc",
   "metadata": {},
   "outputs": [
    {
     "name": "stdout",
     "output_type": "stream",
     "text": [
      "hello\n"
     ]
    }
   ],
   "source": [
    "print(\"hello\")"
   ]
  },
  {
   "cell_type": "code",
   "execution_count": 13,
   "id": "ff88ef4e-7e99-434c-9125-1678d453509d",
   "metadata": {},
   "outputs": [
    {
     "name": "stdout",
     "output_type": "stream",
     "text": [
      "10\n",
      "siddhu\n"
     ]
    }
   ],
   "source": [
    "x = 10\n",
    "print(x)\n",
    "name = 'siddhu'\n",
    "print(name)"
   ]
  },
  {
   "cell_type": "code",
   "execution_count": 15,
   "id": "5cb9229e-fb1d-4744-ae44-ffd53fcd6e50",
   "metadata": {},
   "outputs": [
    {
     "name": "stdout",
     "output_type": "stream",
     "text": [
      "the value of x is : 10 and my name is siddhu\n",
      "KRS CLASSES 10 and siddhu \n"
     ]
    }
   ],
   "source": [
    "print(f'the value of x is : {x} and my name is {name}')\n",
    "print(f'KRS CLASSES {x} and {name} ')"
   ]
  },
  {
   "cell_type": "code",
   "execution_count": 19,
   "id": "48cc78fb-9914-406e-a5bd-a61ba07130c1",
   "metadata": {},
   "outputs": [
    {
     "name": "stdin",
     "output_type": "stream",
     "text": [
      " KRS\n"
     ]
    },
    {
     "data": {
      "text/plain": [
       "str"
      ]
     },
     "execution_count": 19,
     "metadata": {},
     "output_type": "execute_result"
    }
   ],
   "source": [
    "value = input()\n",
    "type(value)"
   ]
  },
  {
   "cell_type": "code",
   "execution_count": 1,
   "id": "cde82c56-a218-4d99-b484-23bc66abdc8c",
   "metadata": {},
   "outputs": [
    {
     "name": "stdin",
     "output_type": "stream",
     "text": [
      "enter value :  23\n"
     ]
    },
    {
     "data": {
      "text/plain": [
       "int"
      ]
     },
     "execution_count": 1,
     "metadata": {},
     "output_type": "execute_result"
    }
   ],
   "source": [
    "value = int(input('enter value : '))\n",
    "type(value)"
   ]
  },
  {
   "cell_type": "code",
   "execution_count": 27,
   "id": "882d9a97-7135-48e4-aa17-78b3067d5b68",
   "metadata": {},
   "outputs": [
    {
     "data": {
      "text/plain": [
       "1024"
      ]
     },
     "execution_count": 27,
     "metadata": {},
     "output_type": "execute_result"
    }
   ],
   "source": [
    "'''\n",
    "2**10\n",
    "# single line comment\n",
    "'''"
   ]
  },
  {
   "cell_type": "code",
   "execution_count": 29,
   "id": "efe0e16a-789a-46c3-b64a-5d6e3bacf97b",
   "metadata": {},
   "outputs": [
    {
     "name": "stdin",
     "output_type": "stream",
     "text": [
      "enter number 2\n"
     ]
    },
    {
     "name": "stdout",
     "output_type": "stream",
     "text": [
      "world\n"
     ]
    }
   ],
   "source": [
    "val = int(input('enter number'))\n",
    "if val<2:\n",
    "    print('hello')\n",
    "elif val==2: \n",
    "    print('world')\n",
    "else:\n",
    "    print ('krs')"
   ]
  },
  {
   "cell_type": "code",
   "execution_count": 3,
   "id": "a145248d-12f1-4b68-a0b7-e006809eb69c",
   "metadata": {},
   "outputs": [
    {
     "name": "stdout",
     "output_type": "stream",
     "text": [
      "['s', 'string']\n"
     ]
    }
   ],
   "source": [
    "num_list = [1,2,3,4,5,6,7]\n",
    "alp_list = ['k','r','s']\n",
    "arr = ['s','string']"
   ]
  },
  {
   "cell_type": "code",
   "execution_count": 41,
   "id": "71e5d728-e086-4442-8864-ae990c292950",
   "metadata": {},
   "outputs": [
    {
     "data": {
      "text/plain": [
       "[1, 2, 2, 2, 3, 4, 5, 6, 7, 'sid', 'sid', 'sid']"
      ]
     },
     "execution_count": 41,
     "metadata": {},
     "output_type": "execute_result"
    }
   ],
   "source": [
    "num_list.append('sid')\n",
    "num_list.insert(1,2)\n",
    "num_list"
   ]
  },
  {
   "cell_type": "code",
   "execution_count": 37,
   "id": "fcacdf29-fe45-4fed-bc92-5d5d4199043b",
   "metadata": {},
   "outputs": [
    {
     "data": {
      "text/plain": [
       "['k', 'r', 's', 1]"
      ]
     },
     "execution_count": 37,
     "metadata": {},
     "output_type": "execute_result"
    }
   ],
   "source": [
    "alp_list.append(1)\n",
    "alp_list"
   ]
  },
  {
   "cell_type": "code",
   "execution_count": 45,
   "id": "bd399b5d-ef5f-4be3-ad3c-827dd35bedcc",
   "metadata": {},
   "outputs": [
    {
     "data": {
      "text/plain": [
       "'k'"
      ]
     },
     "execution_count": 45,
     "metadata": {},
     "output_type": "execute_result"
    }
   ],
   "source": [
    "alp_list[0]"
   ]
  },
  {
   "cell_type": "code",
   "execution_count": 49,
   "id": "b9bd31cf-940f-425d-8c78-2dc4d87ab0fe",
   "metadata": {},
   "outputs": [
    {
     "data": {
      "text/plain": [
       "['k', 'r', 's', 1]"
      ]
     },
     "execution_count": 49,
     "metadata": {},
     "output_type": "execute_result"
    }
   ],
   "source": [
    "# slicing\n",
    "alp_list[0:4]"
   ]
  },
  {
   "cell_type": "code",
   "execution_count": 13,
   "id": "33e13691-74dc-4326-af97-872c929f2184",
   "metadata": {},
   "outputs": [
    {
     "data": {
      "text/plain": [
       "['k', 'r', 's', 1]"
      ]
     },
     "execution_count": 13,
     "metadata": {},
     "output_type": "execute_result"
    }
   ],
   "source": [
    "alp_list[:]"
   ]
  },
  {
   "cell_type": "code",
   "execution_count": 14,
   "id": "ab92f49c-0237-4376-9869-2dc2d9d1add5",
   "metadata": {},
   "outputs": [
    {
     "data": {
      "text/plain": [
       "['k', 'r', 's']"
      ]
     },
     "execution_count": 14,
     "metadata": {},
     "output_type": "execute_result"
    }
   ],
   "source": [
    "alp_list[:-1]"
   ]
  },
  {
   "cell_type": "code",
   "execution_count": 53,
   "id": "eff34434-cf3f-4081-be30-47139f18854e",
   "metadata": {},
   "outputs": [
    {
     "data": {
      "text/plain": [
       "[]"
      ]
     },
     "execution_count": 53,
     "metadata": {},
     "output_type": "execute_result"
    }
   ],
   "source": [
    "alp_list[-1:]\n",
    "# more example"
   ]
  },
  {
   "cell_type": "code",
   "execution_count": 57,
   "id": "db88ed92-601b-49e3-9733-fd6a55ff0818",
   "metadata": {},
   "outputs": [
    {
     "data": {
      "text/plain": [
       "'item1'"
      ]
     },
     "execution_count": 57,
     "metadata": {},
     "output_type": "execute_result"
    }
   ],
   "source": [
    "# comment \n",
    "dict = {'key1' : 'item1', 'key2' : 'item2'}\n",
    "dict['key1']"
   ]
  },
  {
   "cell_type": "code",
   "execution_count": 59,
   "id": "b0cf987e-d8f7-4aa7-ac8a-946aff510b0c",
   "metadata": {},
   "outputs": [
    {
     "data": {
      "text/plain": [
       "dict_items([('key1', 'item1'), ('key2', 'item2')])"
      ]
     },
     "execution_count": 59,
     "metadata": {},
     "output_type": "execute_result"
    }
   ],
   "source": [
    "dict.items()"
   ]
  },
  {
   "cell_type": "code",
   "execution_count": 61,
   "id": "61c15863-719c-414c-a9ce-72073d1e0eb1",
   "metadata": {},
   "outputs": [
    {
     "data": {
      "text/plain": [
       "dict_keys(['key1', 'key2'])"
      ]
     },
     "execution_count": 61,
     "metadata": {},
     "output_type": "execute_result"
    }
   ],
   "source": [
    "dict.keys()"
   ]
  },
  {
   "cell_type": "code",
   "execution_count": 4,
   "id": "e8e55667-fd28-4d83-8018-95c200297029",
   "metadata": {},
   "outputs": [],
   "source": [
    "tuple = (1,2,3,4)"
   ]
  },
  {
   "cell_type": "code",
   "execution_count": 5,
   "id": "7fe6fc9d-516b-484c-9573-865a06c0aa9b",
   "metadata": {},
   "outputs": [
    {
     "data": {
      "text/plain": [
       "1"
      ]
     },
     "execution_count": 5,
     "metadata": {},
     "output_type": "execute_result"
    }
   ],
   "source": [
    "tuple[0]"
   ]
  },
  {
   "cell_type": "code",
   "execution_count": 6,
   "id": "4bcbf247-efcc-4be0-bd98-a4c486aba088",
   "metadata": {},
   "outputs": [
    {
     "ename": "TypeError",
     "evalue": "'tuple' object does not support item assignment",
     "output_type": "error",
     "traceback": [
      "\u001b[1;31m---------------------------------------------------------------------------\u001b[0m",
      "\u001b[1;31mTypeError\u001b[0m                                 Traceback (most recent call last)",
      "Cell \u001b[1;32mIn[6], line 1\u001b[0m\n\u001b[1;32m----> 1\u001b[0m \u001b[38;5;28mtuple\u001b[39m[\u001b[38;5;241m0\u001b[39m] \u001b[38;5;241m=\u001b[39m \u001b[38;5;124m'\u001b[39m\u001b[38;5;124mkrs\u001b[39m\u001b[38;5;124m'\u001b[39m\n",
      "\u001b[1;31mTypeError\u001b[0m: 'tuple' object does not support item assignment"
     ]
    }
   ],
   "source": [
    "tuple[0] = 'krs'"
   ]
  },
  {
   "cell_type": "code",
   "execution_count": 7,
   "id": "721fa01f-d55b-4632-845b-8dc550278983",
   "metadata": {},
   "outputs": [
    {
     "data": {
      "text/plain": [
       "[1, 4, 9, 16, 25]"
      ]
     },
     "execution_count": 7,
     "metadata": {},
     "output_type": "execute_result"
    }
   ],
   "source": [
    "# for loop\n",
    "list_1 =[1,2,3,4,5]\n",
    "square = []\n",
    "for x in list_1:\n",
    "    square.append(x*x)\n",
    "square"
   ]
  },
  {
   "cell_type": "code",
   "execution_count": 8,
   "id": "e6c00814-ea0c-4f67-acdf-dc1d1bfd3d55",
   "metadata": {},
   "outputs": [
    {
     "name": "stdout",
     "output_type": "stream",
     "text": [
      "10\n",
      "12\n",
      "14\n"
     ]
    }
   ],
   "source": [
    "for i in range(10,15,2):\n",
    "    print(i)"
   ]
  },
  {
   "cell_type": "code",
   "execution_count": 77,
   "id": "03c246f1-3294-4981-ac26-73b84ff60ae4",
   "metadata": {},
   "outputs": [
    {
     "name": "stdout",
     "output_type": "stream",
     "text": [
      "5\n",
      "4\n",
      "3\n",
      "2\n",
      "1\n",
      "0\n"
     ]
    }
   ],
   "source": [
    "# while loop\n",
    "i = 5\n",
    "while (i>=0):\n",
    "    print(i)\n",
    "    i-=1  # i = i-1\n",
    "# i-- not supported"
   ]
  },
  {
   "cell_type": "code",
   "execution_count": 79,
   "id": "3f366440-e718-44d6-b61f-018a77175423",
   "metadata": {},
   "outputs": [
    {
     "data": {
      "text/plain": [
       "11"
      ]
     },
     "execution_count": 79,
     "metadata": {},
     "output_type": "execute_result"
    }
   ],
   "source": [
    "# functions\n",
    "def sum(a,b):\n",
    "    return a+b\n",
    "out = sum(5,6)\n",
    "out"
   ]
  },
  {
   "cell_type": "code",
   "execution_count": 11,
   "id": "4e9f2628-188b-48ba-b6ec-598602b4f0fe",
   "metadata": {},
   "outputs": [
    {
     "name": "stdout",
     "output_type": "stream",
     "text": [
      "[1, 4, 9, 16]\n"
     ]
    }
   ],
   "source": [
    "# map(function_name , iterable_element)\n",
    "seq=[1,2,3,4]\n",
    "def mul(i):\n",
    "    return i*i\n",
    "out = map(mul,seq)\n",
    "print(list(out))"
   ]
  },
  {
   "cell_type": "code",
   "execution_count": 87,
   "id": "c21c04bb-4b63-40ca-95dc-6ac1578481f0",
   "metadata": {},
   "outputs": [
    {
     "name": "stdout",
     "output_type": "stream",
     "text": [
      "[1, 8, 27, 64]\n"
     ]
    }
   ],
   "source": [
    "# lambda expression\n",
    "seq_1=[1,2,3,4]\n",
    "out_1 = map(lambda x: x*x*x ,seq_1)\n",
    "print(list(out_1))"
   ]
  },
  {
   "cell_type": "code",
   "execution_count": 93,
   "id": "c38a8d1c-55dc-41aa-8d88-5ec4a320cbb8",
   "metadata": {},
   "outputs": [
    {
     "name": "stdout",
     "output_type": "stream",
     "text": [
      "wlecome to day 0 of krs classes\n",
      "WLECOME TO DAY 0 OF KRS CLASSES\n",
      "['wlecome', 'to', 'day', '0', 'of', 'krs', 'classes']\n",
      "gmail.com\n",
      "['xyz', 'gmail.com']\n"
     ]
    }
   ],
   "source": [
    "# strings\n",
    "st = 'wlecome to day 0 of krs classes'\n",
    "l = st.lower()\n",
    "print(l)\n",
    "u = st.upper()\n",
    "print(u)\n",
    "sp = st.split()\n",
    "print(sp)\n",
    "s = 'xyz@gmail.com'\n",
    "f = s.split('@')\n",
    "print(f)"
   ]
  }
 ],
 "metadata": {
  "kernelspec": {
   "display_name": "Python [conda env:base] *",
   "language": "python",
   "name": "conda-base-py"
  },
  "language_info": {
   "codemirror_mode": {
    "name": "ipython",
    "version": 3
   },
   "file_extension": ".py",
   "mimetype": "text/x-python",
   "name": "python",
   "nbconvert_exporter": "python",
   "pygments_lexer": "ipython3",
   "version": "3.13.5"
  }
 },
 "nbformat": 4,
 "nbformat_minor": 5
}
