{
 "cells": [
  {
   "cell_type": "markdown",
   "id": "69d930c2",
   "metadata": {},
   "source": [
    "# Iris Species Classification using KNN\n",
    "This notebook uses the Kaggle Iris dataset (`Iris.csv`), applies KNN classification, and evaluates performance under measurement noise."
   ]
  },
  {
   "cell_type": "code",
   "execution_count": null,
   "id": "1b5e9fc4",
   "metadata": {},
   "outputs": [],
   "source": [
    "import pandas as pd\n",
    "import numpy as np\n",
    "import matplotlib.pyplot as plt\n",
    "import seaborn as sns\n",
    "from sklearn.model_selection import train_test_split\n",
    "from sklearn.neighbors import KNeighborsClassifier\n",
    "from sklearn.metrics import accuracy_score\n",
    "\n",
    "# Load the Kaggle Iris dataset\n",
    "df = pd.read_csv('Iris.csv')\n",
    "\n",
    "# Rename columns for consistency\n",
    "df.rename(columns={\n",
    "    'SepalLengthCm': 'sepal_length',\n",
    "    'SepalWidthCm': 'sepal_width',\n",
    "    'PetalLengthCm': 'petal_length',\n",
    "    'PetalWidthCm': 'petal_width',\n",
    "    'Species': 'species'\n",
    "}, inplace=True)\n",
    "df.head()"
   ]
  },
  {
   "cell_type": "markdown",
   "id": "8819398a",
   "metadata": {},
   "source": [
    "## Data Exploration\n",
    "Scatter plot of petal_length vs petal_width."
   ]
  },
  {
   "cell_type": "code",
   "execution_count": null,
   "id": "1be73e79",
   "metadata": {},
   "outputs": [],
   "source": [
    "plt.figure(figsize=(8,6))\n",
    "sns.scatterplot(data=df, x='petal_length', y='petal_width', hue='species')\n",
    "plt.title('Petal Length vs Petal Width by Species')\n",
    "plt.show()"
   ]
  },
  {
   "cell_type": "markdown",
   "id": "2f710a41",
   "metadata": {},
   "source": [
    "## KNN Classification\n",
    "Split into train/test and evaluate with Euclidean and Manhattan distances."
   ]
  },
  {
   "cell_type": "code",
   "execution_count": null,
   "id": "107fd7ba",
   "metadata": {},
   "outputs": [],
   "source": [
    "X = df.drop(['Id','species'], axis=1)\n",
    "y = df['species']\n",
    "\n",
    "X_train, X_test, y_train, y_test = train_test_split(X, y, test_size=0.2, random_state=42)\n",
    "\n",
    "# Euclidean\n",
    "knn_euclidean = KNeighborsClassifier(n_neighbors=5, metric='euclidean')\n",
    "knn_euclidean.fit(X_train, y_train)\n",
    "acc_euclidean = knn_euclidean.score(X_test, y_test)\n",
    "\n",
    "# Manhattan\n",
    "knn_manhattan = KNeighborsClassifier(n_neighbors=5, metric='manhattan')\n",
    "knn_manhattan.fit(X_train, y_train)\n",
    "acc_manhattan = knn_manhattan.score(X_test, y_test)\n",
    "\n",
    "acc_euclidean, acc_manhattan"
   ]
  },
  {
   "cell_type": "markdown",
   "id": "b7bfffff",
   "metadata": {},
   "source": [
    "## Hyperparameter Tuning\n",
    "Test k values from 1 to 10 using Euclidean distance."
   ]
  },
  {
   "cell_type": "code",
   "execution_count": null,
   "id": "6151553f",
   "metadata": {},
   "outputs": [],
   "source": [
    "accuracies = []\n",
    "k_values = range(1, 11)\n",
    "\n",
    "for k in k_values:\n",
    "    knn = KNeighborsClassifier(n_neighbors=k, metric='euclidean')\n",
    "    knn.fit(X_train, y_train)\n",
    "    acc = knn.score(X_test, y_test)\n",
    "    accuracies.append(acc)\n",
    "\n",
    "plt.figure(figsize=(8,6))\n",
    "plt.plot(k_values, accuracies, marker='o')\n",
    "plt.xlabel('Number of Neighbors (k)')\n",
    "plt.ylabel('Test Accuracy')\n",
    "plt.title('KNN Accuracy vs k (Euclidean)')\n",
    "plt.show()\n",
    "\n",
    "best_k = k_values[np.argmax(accuracies)]\n",
    "best_accuracy = max(accuracies)\n",
    "best_k, best_accuracy"
   ]
  },
  {
   "cell_type": "markdown",
   "id": "b01cba62",
   "metadata": {},
   "source": [
    "## Reflection\n",
    "- Euclidean vs Manhattan: Euclidean often performs slightly better on the Iris dataset due to its continuous, rounded feature space and clear separation between species. Manhattan can be more sensitive to axis-aligned noise and outliers.\n",
    "- Preprocessing suggestion: **Scaling (StandardScaler or MinMaxScaler)** is important for KNN because distances are affected by feature magnitudes. Scaling ensures that features like petal length (larger values) don’t dominate smaller ones like petal width."
   ]
  }
 ],
 "metadata": {
  "kernelspec": {
   "display_name": "Python 3",
   "language": "python",
   "name": "python3"
  },
  "language_info": {
   "name": "python",
   "version": "3.9"
  }
 },
 "nbformat": 4,
 "nbformat_minor": 5
}
